{
 "cells": [
  {
   "cell_type": "markdown",
   "metadata": {},
   "source": [
    "# Project: Chatbot for Manulife\n",
    "This project implements a chatbot system designed to assist users with a variety of tasks, featuring the following key capabilities:  \n",
    "- **Conversation memory**: Retains context across user interactions.  \n",
    "- **Retrieval-Augmented Generation (RAG)**: Answers user questions by retrieving relevant information from documents.  \n",
    "- **Internet search**: Handles queries requiring up-to-date or information beyond the knowledge of a large language model (LLM).\n",
    "\n",
    "## Chatbot System Overview\n",
    "The system is comprised of two specialized agents: **Receptionist** and **Insurance Advisor**, each tailored to handle different types of queries. \n",
    "\n",
    "### **Receptionist**\n",
    "The Receptionist agent is responsible for:  \n",
    "- Answering general questions that can be handled by a large language model (LLM).  \n",
    "- Retrieving information from the 2023 Manulife Annual Report to address finance-related queries specific to Manulife.  \n",
    "- Performing web searches to provide answers for questions outside its built-in knowledge base (e.g., \"What is the current weather in Hong Kong?\").  \n",
    "\n",
    "### **Insurance Advisor**\n",
    "The Insurance Advisor agent specializes in:  \n",
    "- Offering personalized recommendations for purchasing any type of insurance package.  \n",
    "\n",
    "## Agent Collaboration\n",
    "The two agents work collaboratively as follows:  \n",
    "- If a user's query **is not related to purchasing insurance**, the Receptionist agent provides the response.  \n",
    "- If a user's query **concerns purchasing an insurance package**, the conversation is transferred to the Insurance Advisor for further assistance.\n",
    "\n",
    "## State Graph\n",
    "Below is a graphical representation of the chatbot system's workflow: \n",
    "\n",
    "![Manulife Chatbot Diagram](img/state_graph_langgraph.png \"Chatbot System Overview\")\n",
    "\n",
    "## Technologies Used\n",
    "- This project uses LangChain and LangGraph, among other dependencies."
   ]
  },
  {
   "cell_type": "markdown",
   "metadata": {},
   "source": [
    "## import necessary dependencies"
   ]
  },
  {
   "cell_type": "code",
   "execution_count": 1,
   "metadata": {},
   "outputs": [],
   "source": [
    "from IPython.display import Image, display\n",
    "from typing_extensions import List, TypedDict, Annotated\n",
    "from typing import Annotated, Literal\n",
    "import uuid\n",
    "from IPython.core.interactiveshell import InteractiveShell; InteractiveShell.ast_node_interactivity = \"all\"\n",
    "\n",
    "# LLM \n",
    "from google.cloud import aiplatform\n",
    "from langchain_google_vertexai import ChatVertexAI\n",
    "\n",
    "# RAG\n",
    "from langchain_text_splitters import RecursiveCharacterTextSplitter\n",
    "from langchain_community.document_loaders import PyPDFLoader\n",
    "\n",
    "# memory \n",
    "from langgraph.checkpoint.memory import MemorySaver\n",
    "\n",
    "# embedding\n",
    "from langchain_google_vertexai import VertexAIEmbeddings\n",
    "\n",
    "# vector store\n",
    "from langchain_core.vectorstores import InMemoryVectorStore\n",
    "\n",
    "# tool\n",
    "from langchain_core.tools import tool\n",
    "\n",
    "# web search\n",
    "from langchain_community.tools.tavily_search import TavilySearchResults\n",
    "\n",
    "# langraph\n",
    "from langgraph.graph import START, MessagesState, StateGraph\n",
    "from langgraph.prebuilt import create_react_agent \n",
    "from langgraph.types import Command, interrupt\n",
    "from langchain_core.tools.base import InjectedToolCallId\n",
    "from langgraph.prebuilt import InjectedState"
   ]
  },
  {
   "cell_type": "markdown",
   "metadata": {},
   "source": [
    "## Define LLM model to use"
   ]
  },
  {
   "cell_type": "code",
   "execution_count": 2,
   "metadata": {},
   "outputs": [],
   "source": [
    "model = ChatVertexAI(\n",
    "    model=\"gemini-2.0-flash-exp\",\n",
    "    temperature=0,\n",
    "    top_k=1,\n",
    "    max_tokens=None,\n",
    "    max_retries=6,\n",
    "    stop=None,\n",
    "    # other params...\n",
    ")"
   ]
  },
  {
   "cell_type": "markdown",
   "metadata": {},
   "source": [
    "# Define document handler, embedding, and vector store"
   ]
  },
  {
   "cell_type": "code",
   "execution_count": 3,
   "metadata": {},
   "outputs": [
    {
     "name": "stdout",
     "output_type": "stream",
     "text": [
      "len(docs) = 288\n",
      "len(all_splits) = 1644\n"
     ]
    }
   ],
   "source": [
    "file_path = \"doc/manulife_annual_report_2023.pdf\"\n",
    "\n",
    "# define file handler\n",
    "loader = PyPDFLoader(file_path)\n",
    "docs = loader.load()\n",
    "print(f\"{len(docs) = }\")\n",
    "\n",
    "text_splitter = RecursiveCharacterTextSplitter(\n",
    "    chunk_size=1000, chunk_overlap=200, add_start_index=True\n",
    ")\n",
    "all_splits = text_splitter.split_documents(docs)\n",
    "\n",
    "print(f\"{len(all_splits) = }\")\n",
    "\n",
    "# define embedding\n",
    "embeddings = VertexAIEmbeddings(model=\"text-embedding-004\")\n",
    "\n",
    "# define vector store\n",
    "vector_store = InMemoryVectorStore(embeddings)\n",
    "_ = vector_store.add_documents(documents=all_splits)\n",
    "\n",
    "memory = MemorySaver()"
   ]
  },
  {
   "cell_type": "code",
   "execution_count": 5,
   "metadata": {},
   "outputs": [],
   "source": [
    "# len(all_splits[10].page_content)\n",
    "# len(all_splits[14].page_content)\n",
    "# print(all_splits[10].page_content)"
   ]
  },
  {
   "cell_type": "markdown",
   "metadata": {},
   "source": [
    "## Define tools for tool calling"
   ]
  },
  {
   "cell_type": "code",
   "execution_count": 7,
   "metadata": {},
   "outputs": [],
   "source": [
    "# search the manulife document for information\n",
    "@tool(response_format=\"content_and_artifact\")\n",
    "def retrieve(query: str):\n",
    "    \"\"\"Use this tool to retrieve and summarize information from the Manulife 2023 annual report.\"\"\"\n",
    "    retrieved_docs = vector_store.similarity_search(query, k=3)\n",
    "    serialized = \"\\n\\n\".join(\n",
    "        (f\"Source: {doc.metadata}\\n\" f\"Content: {doc.page_content}\")\n",
    "        for doc in retrieved_docs\n",
    "    )\n",
    "    return serialized, retrieved_docs\n",
    "\n",
    "# for searching the internet\n",
    "search = TavilySearchResults(max_results=2)\n",
    "\n",
    "# transfer from one agent to another agent\n",
    "# Purpose: Transfers queries from one agent to another.\n",
    "# make_handoff_tool(agent_name=\"agent_X\") creates a function named transfer_to_agent_X for passing requests.\n",
    "# handoff_to_agent:\n",
    "    # Adds a tool message indicating that the query has been transferred.\n",
    "    # Calls Command(goto=agent_name, graph=Command.PARENT, update=...), which:\n",
    "        # Moves the conversation to agent_name.\n",
    "        # Updates the chat history with a message about the transfer.\n",
    "# Useful for multi-agent systems where different agents specialize in different topics.\n",
    "def make_handoff_tool(*, agent_name: str):\n",
    "    \"\"\"Create a tool that can return handoff via a Command\"\"\"\n",
    "    tool_name = f\"transfer_to_{agent_name}\"\n",
    "\n",
    "    @tool(tool_name)\n",
    "    def handoff_to_agent(\n",
    "        state: Annotated[dict, InjectedState],\n",
    "        tool_call_id: Annotated[str, InjectedToolCallId],\n",
    "    ):\n",
    "        \"\"\"Ask another agent for help.\"\"\"\n",
    "        tool_message = {\n",
    "            \"role\": \"tool\",\n",
    "            \"content\": f\"Successfully transferred to {agent_name}\",\n",
    "            \"name\": tool_name,\n",
    "            \"tool_call_id\": tool_call_id,\n",
    "        }\n",
    "        return Command(\n",
    "            # navigate to another agent node in the PARENT graph\n",
    "            goto=agent_name,\n",
    "            graph=Command.PARENT,\n",
    "            # This is the state update that the agent `agent_name` will see when it is invoked.\n",
    "            # We're passing agent's FULL internal message history AND adding a tool message to make sure\n",
    "            # the resulting chat history is valid.\n",
    "            update={\"messages\": state[\"messages\"] + [tool_message]},\n",
    "        )\n",
    "\n",
    "    return handoff_to_agent"
   ]
  },
  {
   "cell_type": "markdown",
   "metadata": {},
   "source": [
    "## Define agents"
   ]
  },
  {
   "cell_type": "code",
   "execution_count": 5,
   "metadata": {},
   "outputs": [],
   "source": [
    "receptionist_tools = [\n",
    "    retrieve, \n",
    "    search, \n",
    "    make_handoff_tool(agent_name='insurance_advisor')\n",
    "]\n",
    "\n",
    "receptionist = create_react_agent(\n",
    "    model, \n",
    "    receptionist_tools, \n",
    "    state_modifier= (\n",
    "        \"You are a receptionist answering general conversation bot for the insurance company Manulife. If users ask for insurance purchase recommendation, ask 'insurance_advisor' for help. \"\n",
    "    )\n",
    ")\n",
    "\n",
    "insurance_advisor_tools = [\n",
    "    search,\n",
    "    make_handoff_tool(agent_name='receptionist'),\n",
    "]\n",
    "\n",
    "insurance_advisor = create_react_agent(\n",
    "    model,\n",
    "    insurance_advisor_tools,\n",
    "    state_modifier=(\n",
    "        \"You are a insurance expert who provides recommendations for purchasing any kind of insurance package. \"\n",
    "        \"You must explain the reason of your recommendation and the general benefits of this insurance package. \"\n",
    "        \"If users ask for questions unrelated to purchasing insurance package recommendation, ask 'receptionist' for help. \"\n",
    "    ),\n",
    ")"
   ]
  },
  {
   "cell_type": "markdown",
   "metadata": {},
   "source": [
    "## Define state graph"
   ]
  },
  {
   "cell_type": "code",
   "execution_count": 8,
   "metadata": {},
   "outputs": [
    {
     "data": {
      "text/plain": [
       "<langgraph.graph.state.StateGraph at 0x3162a5050>"
      ]
     },
     "execution_count": 8,
     "metadata": {},
     "output_type": "execute_result"
    },
    {
     "data": {
      "text/plain": [
       "<langgraph.graph.state.StateGraph at 0x3162a5050>"
      ]
     },
     "execution_count": 8,
     "metadata": {},
     "output_type": "execute_result"
    },
    {
     "data": {
      "text/plain": [
       "<langgraph.graph.state.StateGraph at 0x3162a5050>"
      ]
     },
     "execution_count": 8,
     "metadata": {},
     "output_type": "execute_result"
    },
    {
     "data": {
      "text/plain": [
       "<langgraph.graph.state.StateGraph at 0x3162a5050>"
      ]
     },
     "execution_count": 8,
     "metadata": {},
     "output_type": "execute_result"
    },
    {
     "data": {
      "image/png": "[encoded data removed]",
      "text/plain": [
       "<IPython.core.display.Image object>"
      ]
     },
     "metadata": {},
     "output_type": "display_data"
    }
   ],
   "source": [
    "def call_receptionist(\n",
    "    state: MessagesState,\n",
    ") -> Command[Literal['insurance_advisor', \"human\"]]:\n",
    "    response = receptionist.invoke(state)\n",
    "    return Command(update=response, goto=\"human\")\n",
    "\n",
    "def call_insurance_advisor(\n",
    "    state: MessagesState,\n",
    ") -> Command[Literal[\"receptionist\", \"human\"]]:\n",
    "    response = insurance_advisor.invoke(state)\n",
    "    return Command(update=response, goto=\"human\")\n",
    "\n",
    "def human_node(\n",
    "    state: MessagesState, \n",
    "    config\n",
    ") -> Command[Literal[\"receptionist\", \"insurance_advisor\"]]:\n",
    "# ) -> Command[Literal[\"receptionist\", \"insurance_advisor\", \"human\"]]:\n",
    "    \"\"\"A node for collecting user input.\"\"\"\n",
    "\n",
    "    user_input = interrupt(value=\"Ready for user input.\")\n",
    "\n",
    "    # identify the last active agent\n",
    "    # (the last active node before returning to human)\n",
    "    langgraph_triggers = config[\"metadata\"][\"langgraph_triggers\"]\n",
    "    if len(langgraph_triggers) != 1:\n",
    "        raise AssertionError(\"Expected exactly 1 trigger in human node\")\n",
    "\n",
    "    active_agent = langgraph_triggers[0].split(\":\")[1]\n",
    "\n",
    "    return Command(\n",
    "        update={\n",
    "            \"messages\": [\n",
    "                {\n",
    "                    \"role\": \"human\",\n",
    "                    \"content\": user_input,\n",
    "                }\n",
    "            ]\n",
    "        },\n",
    "        goto=active_agent,\n",
    "    )\n",
    "\n",
    "\n",
    "builder = StateGraph(MessagesState)\n",
    "builder.add_node(\"receptionist\", call_receptionist)\n",
    "builder.add_node(\"insurance_advisor\", call_insurance_advisor)\n",
    "builder.add_node(\"human\", human_node)\n",
    "builder.add_edge(START, \"receptionist\")\n",
    "checkpointer = MemorySaver()\n",
    "graph = builder.compile(checkpointer=checkpointer)\n",
    "\n",
    "display(Image(graph.get_graph().draw_mermaid_png()))"
   ]
  },
  {
   "cell_type": "markdown",
   "metadata": {},
   "source": [
    "## start conversation with agents"
   ]
  },
  {
   "cell_type": "code",
   "execution_count": 7,
   "metadata": {},
   "outputs": [
    {
     "name": "stdout",
     "output_type": "stream",
     "text": [
      "Type 'exit' to end the conversation.\n",
      "--- Conversation Turn 1 ---\n",
      "You: hello!\n",
      "receptionist: Hi there! How can I help you today?\n",
      "\n",
      "--- Conversation Turn 2 ---\n",
      "You: What is the total revenue in 2023 for manulife?\n",
      "receptionist: Manulife's total revenue in 2023 was $48.739 billion.\n",
      "\n",
      "--- Conversation Turn 3 ---\n",
      "You: what is the weather in Hong Kong now?\n",
      "receptionist: The weather in Hong Kong is currently clear with a temperature of 12.2°C. It's also quite windy, with a wind speed of 16.2 kph from the NNE.\n",
      "\n",
      "--- Conversation Turn 4 ---\n",
      "You: I want to buy insurance\n",
      "insurance_advisor: Okay, I can help you with that! To give you the best recommendation, I need a little more information. What kind of insurance are you looking for? Are you interested in health, life, home, auto, or something else?\n",
      "\n",
      "--- Conversation Turn 5 ---\n",
      "You: what is life insurance?\n",
      "insurance_advisor: Life insurance is a contract between you and an insurance company. In exchange for regular payments (premiums), the insurance company promises to pay a sum of money (the death benefit) to your chosen beneficiaries when you pass away.\n",
      "\n",
      "Here's a breakdown of the key aspects:\n",
      "\n",
      "**Purpose:**\n",
      "\n",
      "*   **Financial Protection:** The primary purpose of life insurance is to provide financial security to your loved ones after you're gone. This can help them cover living expenses, pay off debts, fund education, and maintain their standard of living.\n",
      "*   **Peace of Mind:** Knowing that your family will be financially taken care of can provide significant peace of mind.\n",
      "\n",
      "**Types of Life Insurance:**\n",
      "\n",
      "There are two main categories of life insurance:\n",
      "\n",
      "1.  **Term Life Insurance:**\n",
      "    *   **Coverage Period:** Provides coverage for a specific period (e.g., 10, 20, or 30 years).\n",
      "    *   **Premiums:** Generally lower than permanent life insurance, especially when you're younger and healthier.\n",
      "    *   **Death Benefit:** Paid out only if you pass away within the term.\n",
      "    *   **Renewability:** Some term policies can be renewed at the end of the term, but premiums will likely increase.\n",
      "    *   **Convertibility:** Some term policies can be converted to permanent policies without a medical exam.\n",
      "    *   **Good for:** People who need coverage for a specific period, such as while raising children or paying off a mortgage.\n",
      "\n",
      "2.  **Permanent Life Insurance:**\n",
      "    *   **Coverage Period:** Provides lifelong coverage.\n",
      "    *   **Premiums:** Generally higher than term life insurance.\n",
      "    *   **Death Benefit:** Paid out whenever you pass away.\n",
      "    *   **Cash Value:** Many permanent policies accumulate a cash value over time, which you can borrow against or withdraw from.\n",
      "    *   **Types:** Includes whole life, universal life, and variable life insurance.\n",
      "    *   **Good for:** People who want lifelong coverage, have long-term financial goals, or want to build cash value.\n",
      "\n",
      "**Key Benefits of Life Insurance:**\n",
      "\n",
      "*   **Income Replacement:** Replaces your income for your family.\n",
      "*   **Debt Coverage:** Helps pay off outstanding debts like mortgages, loans, and credit card balances.\n",
      "*   **Education Funding:** Provides funds for your children's education.\n",
      "*   **Estate Planning:** Can help with estate taxes and other expenses.\n",
      "*   **Business Protection:** Can be used to protect a business in the event of an owner's death.\n",
      "*   **Peace of Mind:** Offers financial security and peace of mind for you and your family.\n",
      "\n",
      "**Factors to Consider When Choosing Life Insurance:**\n",
      "\n",
      "*   **Your Needs:** How much coverage do you need to meet your family's financial needs?\n",
      "*   **Your Budget:** How much can you afford to pay in premiums?\n",
      "*   **Your Age and Health:** These factors will affect your premium rates.\n",
      "*   **Your Goals:** What do you want your life insurance to accomplish?\n",
      "\n",
      "Do you have any specific questions about life insurance that I can help you with?\n",
      "\n",
      "Ending the conversation. Goodbye!\n"
     ]
    }
   ],
   "source": [
    "# use uuid to get a random thread_id\n",
    "thread_config = {\"configurable\": {\"thread_id\": uuid.uuid4()}}\n",
    "\n",
    "print(\"Type 'exit' to end the conversation.\")\n",
    "count = 0\n",
    "while True:\n",
    "    user_input = input(\"\\nYou: \")\n",
    "    \n",
    "    if user_input.lower() == \"exit\":\n",
    "        print(\"Ending the conversation. Goodbye!\")\n",
    "        break\n",
    "\n",
    "    count += 1\n",
    "\n",
    "    print(f\"--- Conversation Turn {count} ---\")\n",
    "    print(f\"You: {user_input}\")\n",
    "\n",
    "    if count == 1:\n",
    "        user_input = {\n",
    "        \"messages\": [\n",
    "            {\"role\": \"user\", \"content\": user_input}\n",
    "        ]}\n",
    "    else:\n",
    "        user_input = Command(resume=user_input)\n",
    "\n",
    "    for update in graph.stream(\n",
    "        user_input,\n",
    "        config=thread_config,\n",
    "        stream_mode=\"updates\",\n",
    "    ):\n",
    "        for node_id, value in update.items():\n",
    "            if isinstance(value, dict) and value.get(\"messages\", []):\n",
    "                last_message = value[\"messages\"][-1]\n",
    "                if isinstance(last_message, dict) or last_message.type != \"ai\":\n",
    "                    continue\n",
    "                print(f\"{node_id}: {last_message.content}\")"
   ]
  }
 ],
 "metadata": {
  "kernelspec": {
   "display_name": "base",
   "language": "python",
   "name": "python3"
  },
  "language_info": {
   "codemirror_mode": {
    "name": "ipython",
    "version": 3
   },
   "file_extension": ".py",
   "mimetype": "text/x-python",
   "name": "python",
   "nbconvert_exporter": "python",
   "pygments_lexer": "ipython3",
   "version": "3.11.10"
  }
 },
 "nbformat": 4,
 "nbformat_minor": 2
}
